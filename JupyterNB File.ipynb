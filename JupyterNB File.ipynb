{
 "cells": [
  {
   "cell_type": "code",
   "execution_count": 5,
   "metadata": {},
   "outputs": [
    {
     "data": {
      "text/html": [
       "<div>\n",
       "<style scoped>\n",
       "    .dataframe tbody tr th:only-of-type {\n",
       "        vertical-align: middle;\n",
       "    }\n",
       "\n",
       "    .dataframe tbody tr th {\n",
       "        vertical-align: top;\n",
       "    }\n",
       "\n",
       "    .dataframe thead th {\n",
       "        text-align: right;\n",
       "    }\n",
       "</style>\n",
       "<table border=\"1\" class=\"dataframe\">\n",
       "  <thead>\n",
       "    <tr style=\"text-align: right;\">\n",
       "      <th></th>\n",
       "      <th>Name</th>\n",
       "      <th>Class</th>\n",
       "      <th>Age</th>\n",
       "      <th>Adress</th>\n",
       "    </tr>\n",
       "  </thead>\n",
       "  <tbody>\n",
       "    <tr>\n",
       "      <th>1</th>\n",
       "      <td>Eza</td>\n",
       "      <td>5</td>\n",
       "      <td>10</td>\n",
       "      <td>PO Box 960272</td>\n",
       "    </tr>\n",
       "    <tr>\n",
       "      <th>2</th>\n",
       "      <td>Albi</td>\n",
       "      <td>6</td>\n",
       "      <td>11</td>\n",
       "      <td>PO Box 186682</td>\n",
       "    </tr>\n",
       "    <tr>\n",
       "      <th>3</th>\n",
       "      <td>Nandu</td>\n",
       "      <td>7</td>\n",
       "      <td>12</td>\n",
       "      <td>PO Box 689695</td>\n",
       "    </tr>\n",
       "    <tr>\n",
       "      <th>4</th>\n",
       "      <td>Alfiya</td>\n",
       "      <td>8</td>\n",
       "      <td>13</td>\n",
       "      <td>PO Box 162272</td>\n",
       "    </tr>\n",
       "    <tr>\n",
       "      <th>5</th>\n",
       "      <td>Fathima</td>\n",
       "      <td>9</td>\n",
       "      <td>14</td>\n",
       "      <td>PO Box 546272</td>\n",
       "    </tr>\n",
       "  </tbody>\n",
       "</table>\n",
       "</div>"
      ],
      "text/plain": [
       "      Name  Class  Age         Adress\n",
       "1      Eza      5   10  PO Box 960272\n",
       "2     Albi      6   11  PO Box 186682\n",
       "3    Nandu      7   12  PO Box 689695\n",
       "4   Alfiya      8   13  PO Box 162272\n",
       "5  Fathima      9   14  PO Box 546272"
      ]
     },
     "metadata": {},
     "output_type": "display_data"
    }
   ],
   "source": [
    "import json\n",
    "\n",
    "with open ('StudentList.json') as jsonfile:\n",
    "    studentData = json.load(jsonfile)\n",
    "\n",
    "#print(studentData) #To display data in JSON file\n",
    "#print(type(studentData)) #To display the type of data structure\n",
    "\n",
    "import pandas as pd\n",
    "\n",
    "Dataframe = pd.DataFrame(studentData,index=[1,2,3,4,5])\n",
    "display(Dataframe) #To display as data frame\n",
    "#print(type(Dataframe))"
   ]
  },
  {
   "cell_type": "code",
   "execution_count": 6,
   "metadata": {},
   "outputs": [],
   "source": [
    "Dataframe.to_csv('StudentList_CSV_JNB.csv')"
   ]
  }
 ],
 "metadata": {
  "kernelspec": {
   "display_name": "Python 3",
   "language": "python",
   "name": "python3"
  },
  "language_info": {
   "codemirror_mode": {
    "name": "ipython",
    "version": 3
   },
   "file_extension": ".py",
   "mimetype": "text/x-python",
   "name": "python",
   "nbconvert_exporter": "python",
   "pygments_lexer": "ipython3",
   "version": "3.8.3"
  }
 },
 "nbformat": 4,
 "nbformat_minor": 4
}
